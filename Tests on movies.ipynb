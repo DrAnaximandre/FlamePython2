{
 "cells": [
  {
   "cell_type": "code",
   "execution_count": 32,
   "metadata": {
    "collapsed": true
   },
   "outputs": [],
   "source": [
    "from class_fractale import *\n",
    "import itertools\n",
    "from copy import deepcopy"
   ]
  },
  {
   "cell_type": "code",
   "execution_count": 99,
   "metadata": {
    "collapsed": true
   },
   "outputs": [],
   "source": [
    "def make_serp(k):\n",
    "    burn = 20\n",
    "    niter = 50\n",
    "    zoom = 1\n",
    "    N = 10000\n",
    "\n",
    "    a1 = np.array([0, 1-k, 0, 0, 0, 1])\n",
    "    a2 = np.array([1, 1, 0, 0, 1-k, 1])\n",
    "    a3 = np.array([0, 1, 0, k, 0, 1])\n",
    "\n",
    "    F1 = Fractale(burn, niter, zoom)\n",
    "\n",
    "    v1 = Variation()\n",
    "    v1.addFunction([.5], a1, [linear], .2, [255, 0, 0])\n",
    "    v1.addFunction([.5], a2, [linear], .2, [0, 255, 0])\n",
    "    v1.addFunction([.5], a3, [linear], .2, [0, 0, 255])\n",
    "\n",
    "    F1.addVariation(v1, N)\n",
    "    return(F1)"
   ]
  },
  {
   "cell_type": "code",
   "execution_count": 100,
   "metadata": {
    "collapsed": false
   },
   "outputs": [],
   "source": []
  },
  {
   "cell_type": "code",
   "execution_count": 35,
   "metadata": {
    "collapsed": true
   },
   "outputs": [],
   "source": [
    "def pairwise(iterable):\n",
    "    \"s -> (s0,s1), (s1,s2), (s2, s3), ...\"\n",
    "    a, b = itertools.tee(iterable)\n",
    "    next(b, None)\n",
    "    return zip(a, b)"
   ]
  },
  {
   "cell_type": "code",
   "execution_count": 15,
   "metadata": {
    "collapsed": false
   },
   "outputs": [
    {
     "name": "stdout",
     "output_type": "stream",
     "text": [
      "(1, 2)\n",
      "(2, 3)\n",
      "(3, 4)\n"
     ]
    }
   ],
   "source": [
    "import numpy as np"
   ]
  },
  {
   "cell_type": "code",
   "execution_count": 153,
   "metadata": {
    "collapsed": false
   },
   "outputs": [
    {
     "name": "stdout",
     "output_type": "stream",
     "text": [
      "[ 0.33333333  0.33333333  0.33333333  0.08333333  0.          0.        ]\n",
      "[ 0.28333333  0.33333333  0.33333333  0.08333333  0.          0.        ]\n",
      "[ 0.23333333  0.33333333  0.33333333  0.08333333  0.          0.        ]\n",
      "[ 0.18333333  0.33333333  0.33333333  0.08333333  0.          0.        ]\n",
      "[ 0.13333333  0.33333333  0.33333333  0.08333333  0.          0.        ]\n",
      "[ 0.08333333  0.33333333  0.33333333  0.08333333  0.          0.        ]\n",
      "[ 0.03333333  0.33333333  0.33333333  0.08333333  0.          0.        ]\n",
      "[ 0.         -0.01666667  0.33333333  0.33333333  0.08333333  0.        ]\n",
      "[ 0.         -0.06666667  0.33333333  0.33333333  0.08333333  0.        ]\n",
      "[ 0.         -0.11666667  0.33333333  0.33333333  0.08333333  0.        ]\n",
      "[ 0.         -0.16666667  0.33333333  0.33333333  0.08333333  0.        ]\n",
      "[ 0.         -0.21666667  0.33333333  0.33333333  0.08333333  0.        ]\n",
      "[ 0.         -0.26666667  0.33333333  0.33333333  0.08333333  0.        ]\n",
      "[ 0.         -0.31666667  0.33333333  0.33333333  0.08333333  0.        ]\n",
      "[ 0.          0.         -0.36666667  0.33333333  0.33333333  0.08333333]\n",
      "[ 0.          0.         -0.41666667  0.33333333  0.33333333  0.08333333]\n",
      "[ 0.          0.         -0.46666667  0.33333333  0.33333333  0.08333333]\n",
      "[ 0.          0.         -0.51666667  0.33333333  0.33333333  0.08333333]\n",
      "[ 0.          0.         -0.56666667  0.33333333  0.33333333  0.08333333]\n",
      "[ 0.          0.         -0.61666667  0.33333333  0.33333333  0.08333333]\n"
     ]
    }
   ],
   "source": [
    "F1 = make_serp(1)\n",
    "F2 = make_serp(2)\n",
    "\n",
    "def between2frames(f1,f2,ni):\n",
    "    result=[]\n",
    "    \n",
    "    z1 = f1.zoom\n",
    "    z2 = f2.zoom\n",
    "    zis = np.linspace(z1, z2, num=ni, endpoint=True)\n",
    "    \n",
    "    v1 = f1.variations[0]\n",
    "    v2 = f2.variations[0]\n",
    "    \n",
    "    fs = deepcopy(v1.functions)\n",
    "    cs = deepcopy(v1.cols)\n",
    "    ps = deepcopy(v1.vproba[1:])\n",
    "    ps = [p / np.sum(ps) for p in ps]\n",
    "\n",
    "    vpta = v2.vproba[1:]\n",
    "    vpta = [p / np.sum(vpta) for p in vpta]\n",
    "    for f, p, c in zip(v2.functions,vpta, v2.cols):\n",
    "        fs.append(f)\n",
    "        cs.append(c)\n",
    "        ps = np.append(ps,p)\n",
    "\n",
    "    for i, zi in zip(range(ni), zis):\n",
    "        Fi = Fractale(f1.burn, f1.niter, zi)\n",
    "        \n",
    "        lps = deepcopy(ps)\n",
    "        lpsC = [p / np.sum(lps) for p in lps]\n",
    "        lpsC = np.cumsum(lpsC)*2\n",
    "        \n",
    "        Rmin = i/ni\n",
    "        Rmax = 1 + i/ni\n",
    "        \n",
    "        m1 = lpsC <=Rmax\n",
    "        m2 = lpsC > Rmin\n",
    "        m = np.all((m1,m2),0)\n",
    "        \n",
    "        idx = (np.where(m>0)[0][0])\n",
    "        lps[idx] = lps[idx]-Rmin\n",
    "        \n",
    "        ig = len(lps)\n",
    "        lock = False\n",
    "        for i, a in enumerate(m):\n",
    "            if a:\n",
    "                lock=True\n",
    "            if not a and lock:\n",
    "                ig = min(i, ig)\n",
    "        m[ig]=True\n",
    "        lps[ig]=lps[ig]-i/ni\n",
    "        lps[~m]=0\n",
    "        print(lps)\n",
    "        \n",
    "        #v0 = Variation()\n",
    "        #for f, s, c, p  in zip(fs, cs, lps):\n",
    "        #    v0.Nfunctions += 1\n",
    "        #    v0.cols.append(c)\n",
    "        #    v0.vproba.append(p)\n",
    "        #    v0.functions.append(Function(f.ws, f.params, f.additives))\n",
    "        #        \n",
    "        #Fi.addVariation(v0, f1.Ns[0])\n",
    "        #Fi.build()\n",
    "        #result.append(Fi)\n",
    "    \n",
    "    return(result)\n",
    "\n",
    "\n",
    "def movie(Fs, frames_between_images):\n",
    "    ''' \n",
    "    - Fs : list of not builded Fractales with one variation,same burn, same iter, same N, lengh n, no final\n",
    "    - frames_between_images: list of int lenght n-1\n",
    "    \n",
    "    '''\n",
    "    result = []\n",
    "    \n",
    "    # todo: check len(Fs>2)\n",
    "    \n",
    "    for (f1, f2), ni in zip(pairwise(Fs),frames_between_images):\n",
    "        for frames in between2frames(f1, f2, ni):\n",
    "            result.append(frames)\n",
    "        \n",
    "    return(result)\n",
    "\n",
    "\n",
    "mymov = movie([F1,F2],[20])"
   ]
  },
  {
   "cell_type": "code",
   "execution_count": 97,
   "metadata": {
    "collapsed": false
   },
   "outputs": [
    {
     "name": "stdout",
     "output_type": "stream",
     "text": [
      "    number of points in the image: 500000\n",
      "    end loop bitmap and intensity\n",
      "    nmax: 19151.0\n",
      "    number of points in the image: 500000\n",
      "    end loop bitmap and intensity\n",
      "    nmax: 1058.0\n",
      "    number of points in the image: 500000\n",
      "    end loop bitmap and intensity\n",
      "    nmax: 991.0\n",
      "    number of points in the image: 500000\n",
      "    end loop bitmap and intensity\n",
      "    nmax: 1021.0\n",
      "    number of points in the image: 500000\n",
      "    end loop bitmap and intensity\n",
      "    nmax: 1119.0\n",
      "    number of points in the image: 500000\n",
      "    end loop bitmap and intensity\n",
      "    nmax: 1081.0\n",
      "    number of points in the image: 500000\n",
      "    end loop bitmap and intensity\n",
      "    nmax: 1011.0\n",
      "    number of points in the image: 499981\n",
      "    end loop bitmap and intensity\n",
      "    nmax: 336.0\n",
      "    number of points in the image: 499968\n",
      "    end loop bitmap and intensity\n",
      "    nmax: 332.0\n",
      "    number of points in the image: 499956\n",
      "    end loop bitmap and intensity\n",
      "    nmax: 328.0\n",
      "    number of points in the image: 499983\n",
      "    end loop bitmap and intensity\n",
      "    nmax: 319.0\n",
      "    number of points in the image: 499970\n",
      "    end loop bitmap and intensity\n",
      "    nmax: 335.0\n",
      "    number of points in the image: 499975\n",
      "    end loop bitmap and intensity\n",
      "    nmax: 372.0\n",
      "    number of points in the image: 499983\n",
      "    end loop bitmap and intensity\n",
      "    nmax: 352.0\n",
      "    number of points in the image: 315239\n",
      "    end loop bitmap and intensity\n",
      "    nmax: 123.0\n",
      "    number of points in the image: 316031\n",
      "    end loop bitmap and intensity\n",
      "    nmax: 121.0\n",
      "    number of points in the image: 316027\n",
      "    end loop bitmap and intensity\n",
      "    nmax: 130.0\n",
      "    number of points in the image: 316188\n",
      "    end loop bitmap and intensity\n",
      "    nmax: 122.0\n",
      "    number of points in the image: 316180\n",
      "    end loop bitmap and intensity\n",
      "    nmax: 136.0\n",
      "    number of points in the image: 315386\n",
      "    end loop bitmap and intensity\n",
      "    nmax: 123.0\n"
     ]
    }
   ],
   "source": [
    "for i,m in enumerate(mymov):\n",
    "    m.runAll()\n",
    "    out = m.toImage(600,\n",
    "                         coef_forget=.1,\n",
    "                         coef_intensity=.02,\n",
    "                         optional_kernel_filtering=True)\n",
    "    out.save(\"test\"+str(i)+\".png\")"
   ]
  },
  {
   "cell_type": "code",
   "execution_count": null,
   "metadata": {
    "collapsed": true
   },
   "outputs": [],
   "source": []
  }
 ],
 "metadata": {
  "kernelspec": {
   "display_name": "Python [Root]",
   "language": "python",
   "name": "Python [Root]"
  },
  "language_info": {
   "codemirror_mode": {
    "name": "ipython",
    "version": 3
   },
   "file_extension": ".py",
   "mimetype": "text/x-python",
   "name": "python",
   "nbconvert_exporter": "python",
   "pygments_lexer": "ipython3",
   "version": "3.5.2"
  }
 },
 "nbformat": 4,
 "nbformat_minor": 0
}
